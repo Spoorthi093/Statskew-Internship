{
  "nbformat": 4,
  "nbformat_minor": 0,
  "metadata": {
    "colab": {
      "provenance": [],
      "authorship_tag": "ABX9TyPFK9CO4l/CBrHtDtw4AHyK",
      "include_colab_link": true
    },
    "kernelspec": {
      "name": "python3",
      "display_name": "Python 3"
    },
    "language_info": {
      "name": "python"
    }
  },
  "cells": [
    {
      "cell_type": "markdown",
      "metadata": {
        "id": "view-in-github",
        "colab_type": "text"
      },
      "source": [
        "<a href=\"https://colab.research.google.com/github/Spoorthi093/Statskew-Internship/blob/main/intern1.ipynb\" target=\"_parent\"><img src=\"https://colab.research.google.com/assets/colab-badge.svg\" alt=\"Open In Colab\"/></a>"
      ]
    },
    {
      "cell_type": "markdown",
      "source": [
        "Q1: Create Your own filter and reduce function"
      ],
      "metadata": {
        "id": "wl5a3NsbuiCN"
      }
    },
    {
      "cell_type": "code",
      "source": [
        "def my_filter(func, a):\n",
        "    return [item for item in a if func(item)]\n",
        "\n",
        "def my_reduce(func, b, initial=None):\n",
        "    it = iter(b)\n",
        "    if initial is None:\n",
        "        value = next(it)\n",
        "    else:\n",
        "        value = initial\n",
        "    for element in it:\n",
        "        value = func(value, element)\n",
        "    return value"
      ],
      "metadata": {
        "id": "-w7KvM8Rupw7"
      },
      "execution_count": null,
      "outputs": []
    },
    {
      "cell_type": "markdown",
      "source": [
        "Q2: Move Files from one folder to another folder and create empty files"
      ],
      "metadata": {
        "id": "dNU3ESttu7fk"
      }
    },
    {
      "cell_type": "code",
      "source": [
        "import shutil\n",
        "import os\n",
        "\n",
        "def move_files(folder1, folder2):\n",
        "    files = os.listdir(folder1)\n",
        "    for file in files:\n",
        "        path1 = os.path.join(folder1, file)\n",
        "        path2 = os.path.join(folder2, file)\n",
        "        shutil.move(path1,path2)\n",
        "\n",
        "def create_empty_file(folder, file_name):\n",
        "    file_path = os.path.join(folder, file_name)\n",
        "    with open(file_path, 'w') as file:\n",
        "        pass"
      ],
      "metadata": {
        "id": "kpnp1fw3vB4a"
      },
      "execution_count": null,
      "outputs": []
    },
    {
      "cell_type": "markdown",
      "source": [
        "Q3: Delete files if present in the folder"
      ],
      "metadata": {
        "id": "xlUH4902vRRy"
      }
    },
    {
      "cell_type": "code",
      "source": [
        "def delete_files(folder, file_names):\n",
        "    for file_name in file_names:\n",
        "        file_path = os.path.join(folder, file_name)\n",
        "        if os.path.exists(file_path):\n",
        "            os.remove(file_path)"
      ],
      "metadata": {
        "id": "Xbdx2cFxvRvV"
      },
      "execution_count": null,
      "outputs": []
    },
    {
      "cell_type": "markdown",
      "source": [
        "Q4: Open the JSON file and extract the name of the students"
      ],
      "metadata": {
        "id": "_qhQ39RlvSAq"
      }
    },
    {
      "cell_type": "code",
      "source": [
        "import json\n",
        "def extract_names(json_file_path):\n",
        "    with open(json_file_path, 'r') as file:\n",
        "        data = json.load(file)\n",
        "    for student in data:\n",
        "        name = student.get(\"name\", \"\")\n",
        "        print(name)\n",
        "file_path = 'task1.json'\n",
        "extract_names(file_path)"
      ],
      "metadata": {
        "colab": {
          "base_uri": "https://localhost:8080/"
        },
        "id": "sJMmCed-vSRo",
        "outputId": "557940e9-f0c8-4347-cf6a-af8c584203ff"
      },
      "execution_count": null,
      "outputs": [
        {
          "output_type": "stream",
          "name": "stdout",
          "text": [
            "John Smith\n",
            "Jane Doe\n",
            "Bob Johnson\n",
            "Emily Davis\n",
            "David Lee\n",
            "Samantha Hernandez\n",
            "Chris Nguyen\n",
            "Ashley Patel\n",
            "Kevin Wilson\n",
            "Jessica Kim\n",
            "Mark Lee\n",
            "Melissa Brown\n",
            "Ryan Nguyen\n",
            "Alexandra Hernandez\n"
          ]
        }
      ]
    },
    {
      "cell_type": "markdown",
      "source": [
        "Q5: Create a class which contains all the above functions and import this\n",
        "class for use. (OOPS Concept)"
      ],
      "metadata": {
        "id": "5xihmWSqwTOW"
      }
    },
    {
      "cell_type": "code",
      "source": [
        "class FileManipulation:\n",
        "    def my_filter(self, func, a):\n",
        "        return [item for item in a if func(item)]\n",
        "\n",
        "    def my_reduce(self, func, b, initial=None):\n",
        "        it = iter(b)\n",
        "        if initial is None:\n",
        "            value = next(it)\n",
        "        else:\n",
        "            value = initial\n",
        "        for element in it:\n",
        "            value = func(value, element)\n",
        "        return value\n",
        "\n",
        "    def move_files(self,folder1, folder2):\n",
        "        files = os.listdir(folder1)\n",
        "        for file in files:\n",
        "            path1 = os.path.join(folder1, file)\n",
        "            path2 = os.path.join(folder2, file)\n",
        "            shutil.move(path1,path2)\n",
        "\n",
        "    def create_empty_file(self, folder, file_name):\n",
        "        file_path = os.path.join(folder, file_name)\n",
        "        with open(file_path, 'w') as file:\n",
        "            pass\n",
        "\n",
        "    def delete_files(self, folder, file_names):\n",
        "        for file_name in file_names:\n",
        "            file_path = os.path.join(folder, file_name)\n",
        "            if os.path.exists(file_path):\n",
        "                os.remove(file_path)\n",
        "\n",
        "    def extract_names(json_file_path):\n",
        "        with open(json_file_path, 'r') as file:\n",
        "            data = json.load(file)\n",
        "        for student in data:\n",
        "            name = student.get(\"name\", \"\")\n",
        "            print(name)"
      ],
      "metadata": {
        "id": "TkmEcifgwXVZ"
      },
      "execution_count": null,
      "outputs": []
    },
    {
      "cell_type": "markdown",
      "source": [
        "Q6: Scrape mobile name, mobile price and reviews from first 20 page of\n",
        "flipkart."
      ],
      "metadata": {
        "id": "3DwoFlhxwXvd"
      }
    },
    {
      "cell_type": "code",
      "source": [
        "pip install requests beautifulsoup4"
      ],
      "metadata": {
        "colab": {
          "base_uri": "https://localhost:8080/"
        },
        "id": "aRki02LswjGR",
        "outputId": "7abd0f74-311e-45d0-c3da-704ba6d7cbe6"
      },
      "execution_count": null,
      "outputs": [
        {
          "output_type": "stream",
          "name": "stdout",
          "text": [
            "Requirement already satisfied: requests in /usr/local/lib/python3.10/dist-packages (2.31.0)\n",
            "Requirement already satisfied: beautifulsoup4 in /usr/local/lib/python3.10/dist-packages (4.11.2)\n",
            "Requirement already satisfied: charset-normalizer<4,>=2 in /usr/local/lib/python3.10/dist-packages (from requests) (3.3.2)\n",
            "Requirement already satisfied: idna<4,>=2.5 in /usr/local/lib/python3.10/dist-packages (from requests) (3.6)\n",
            "Requirement already satisfied: urllib3<3,>=1.21.1 in /usr/local/lib/python3.10/dist-packages (from requests) (2.0.7)\n",
            "Requirement already satisfied: certifi>=2017.4.17 in /usr/local/lib/python3.10/dist-packages (from requests) (2023.11.17)\n",
            "Requirement already satisfied: soupsieve>1.2 in /usr/local/lib/python3.10/dist-packages (from beautifulsoup4) (2.5)\n"
          ]
        }
      ]
    },
    {
      "cell_type": "code",
      "source": [
        "import requests\n",
        "from bs4 import BeautifulSoup as bs"
      ],
      "metadata": {
        "id": "6f9kN0MxwwTa"
      },
      "execution_count": null,
      "outputs": []
    },
    {
      "cell_type": "code",
      "source": [
        "for i in range(1, 21):\n",
        "    url = 'https://www.flipkart.com/search?q=mobiles&otracker=search&otracker1=search&marketplace=FLIPKART&as-show=off&as=off&page='+str(i)\n",
        "    response = requests.get(url)\n",
        "    soup = bs(response.text, 'html.parser')\n",
        "\n",
        "    mobile_names = soup.find_all(\"div\", attrs={\"class\": \"_4rR01T\"})\n",
        "    mobile_prices = soup.find_all(\"div\", attrs={\"class\": \"_30jeq3\"})\n",
        "    reviews = soup.find_all(\"div\", attrs={\"class\": \"_3LWZlK\"})\n",
        "\n",
        "    for j in range(len(mobile_names)):\n",
        "        print(\"Mobile Name:\", mobile_names[j].text)\n",
        "        print(\"Mobile Price:\", mobile_prices[j].text)\n",
        "        print(\"Reviews:\", reviews[j].text)"
      ],
      "metadata": {
        "id": "G-8uE365Y31n"
      },
      "execution_count": null,
      "outputs": []
    },
    {
      "cell_type": "markdown",
      "source": [
        "Q7: By using selenium. Create a web scrapper for scrapping any product\n",
        "name, product price and review from the first 50 page of flipkart and\n",
        "store all the data into a database like MySQL. Product name will be taken\n",
        "from user's side."
      ],
      "metadata": {
        "id": "wo9Q-EaTxem1"
      }
    },
    {
      "cell_type": "code",
      "source": [
        "!pip install selenium\n",
        "!pip install pymysql"
      ],
      "metadata": {
        "id": "vBN6mOfLwwZP"
      },
      "execution_count": null,
      "outputs": []
    },
    {
      "cell_type": "code",
      "source": [
        "from selenium.webdriver.chrome.service import Service\n",
        "path=r'C:\\Users\\Spoorthi K\\Downloads\\chromedriver_win32\\chromedriver.exe'\n",
        "driver=webdriver.Chrome()\n",
        "driver.get(\"https://www.flipkart.com/\")"
      ],
      "metadata": {
        "id": "JKT2zA2qwwcy"
      },
      "execution_count": null,
      "outputs": []
    },
    {
      "cell_type": "code",
      "source": [
        "input_search=driver.find_element_by_name('q')\n",
        "search_button=driver.find_element_by_xpath(\"\")"
      ],
      "metadata": {
        "id": "c5YNx37laj9h"
      },
      "execution_count": null,
      "outputs": []
    },
    {
      "cell_type": "code",
      "source": [
        "input_search.send_keys(\"\")\n",
        "sleep(1)\n",
        "search_button.click()"
      ],
      "metadata": {
        "id": "kCaZiDAMctPG"
      },
      "execution_count": null,
      "outputs": []
    },
    {
      "cell_type": "code",
      "source": [],
      "metadata": {
        "id": "qAJEmqYqcvk-"
      },
      "execution_count": null,
      "outputs": []
    }
  ]
}